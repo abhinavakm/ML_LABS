{
 "cells": [
  {
   "cell_type": "markdown",
   "metadata": {},
   "source": [
    "# Task3-\n",
    "1.Download bank dataset-\n",
    "https://drive.google.com/open?id=1N7raOWmOSyJPhZtzulVxNx8aYYqOjPAX\n",
    "2.Develop a binomial  logistic regression using attributes BP + weight\n",
    "Observe all parameters (Null Deviance, Residual deviance, P value, Fisher score, AIC , Degree of freedom)\n",
    "3.Develop a binomial  logistic regression using single  attribute “BP”\n",
    "Observe changes in all parameters (Null Deviance, Residual deviance, P value, Fisher score, AIC , Degree of freedom)\n",
    "4.Deduce the conclusion from point 2 and 3\n",
    "5.Think to improve the model…\n",
    "Hint- Polynomial logistic regression \n",
    "Hint- to confirm it – see the data distribution (plot(weight,BP,col=Suffered.Heart.storke+1)). \n",
    "6.One of many solutions can be-\n",
    "BPS = BP*BP\n",
    "weights = weight*weight\n",
    "BPweight = BP*weight\n",
    "\n",
    "m1=glm(Suffered.Heart.storke~BP+weight+weights+BPS+BPweight,family=binomial)\n",
    "m1=glm(Suffered.Heart.storke~BP+weight+weights+BPS,family=binomial)"
   ]
  },
  {
   "cell_type": "code",
   "execution_count": 156,
   "metadata": {},
   "outputs": [],
   "source": [
    "import pandas as pd\n",
    "import numpy as np\n",
    "from sklearn.linear_model import LogisticRegression\n",
    "from sklearn.model_selection import train_test_split\n",
    "import matplotlib.pyplot as plt\n",
    "import seaborn as sns\n",
    "sns.set(style=\"white\")\n",
    "sns.set(style=\"whitegrid\", color_codes=True)"
   ]
  },
  {
   "cell_type": "markdown",
   "metadata": {},
   "source": [
    "# 1. Import data set"
   ]
  },
  {
   "cell_type": "code",
   "execution_count": 157,
   "metadata": {},
   "outputs": [
    {
     "name": "stdout",
     "output_type": "stream",
     "text": [
      "   weight   BP  Suffered.Heart.storke\n",
      "0      55   41                      0\n",
      "1      55   85                      0\n",
      "2      33   88                      1\n",
      "3      25  102                      1\n",
      "4      37   81                      0\n",
      "(1742, 3)\n"
     ]
    },
    {
     "data": {
      "text/html": [
       "<div>\n",
       "<style scoped>\n",
       "    .dataframe tbody tr th:only-of-type {\n",
       "        vertical-align: middle;\n",
       "    }\n",
       "\n",
       "    .dataframe tbody tr th {\n",
       "        vertical-align: top;\n",
       "    }\n",
       "\n",
       "    .dataframe thead th {\n",
       "        text-align: right;\n",
       "    }\n",
       "</style>\n",
       "<table border=\"1\" class=\"dataframe\">\n",
       "  <thead>\n",
       "    <tr style=\"text-align: right;\">\n",
       "      <th></th>\n",
       "      <th>weight</th>\n",
       "      <th>BP</th>\n",
       "      <th>Suffered.Heart.storke</th>\n",
       "    </tr>\n",
       "  </thead>\n",
       "  <tbody>\n",
       "    <tr>\n",
       "      <th>count</th>\n",
       "      <td>1742.000000</td>\n",
       "      <td>1742.000000</td>\n",
       "      <td>1742.000000</td>\n",
       "    </tr>\n",
       "    <tr>\n",
       "      <th>mean</th>\n",
       "      <td>55.000000</td>\n",
       "      <td>68.394948</td>\n",
       "      <td>0.533869</td>\n",
       "    </tr>\n",
       "    <tr>\n",
       "      <th>std</th>\n",
       "      <td>21.141573</td>\n",
       "      <td>21.565234</td>\n",
       "      <td>0.498995</td>\n",
       "    </tr>\n",
       "    <tr>\n",
       "      <th>min</th>\n",
       "      <td>8.000000</td>\n",
       "      <td>29.000000</td>\n",
       "      <td>0.000000</td>\n",
       "    </tr>\n",
       "    <tr>\n",
       "      <th>25%</th>\n",
       "      <td>39.000000</td>\n",
       "      <td>52.000000</td>\n",
       "      <td>0.000000</td>\n",
       "    </tr>\n",
       "    <tr>\n",
       "      <th>50%</th>\n",
       "      <td>55.000000</td>\n",
       "      <td>64.000000</td>\n",
       "      <td>1.000000</td>\n",
       "    </tr>\n",
       "    <tr>\n",
       "      <th>75%</th>\n",
       "      <td>71.000000</td>\n",
       "      <td>85.000000</td>\n",
       "      <td>1.000000</td>\n",
       "    </tr>\n",
       "    <tr>\n",
       "      <th>max</th>\n",
       "      <td>102.000000</td>\n",
       "      <td>119.000000</td>\n",
       "      <td>1.000000</td>\n",
       "    </tr>\n",
       "  </tbody>\n",
       "</table>\n",
       "</div>"
      ],
      "text/plain": [
       "            weight           BP  Suffered.Heart.storke\n",
       "count  1742.000000  1742.000000            1742.000000\n",
       "mean     55.000000    68.394948               0.533869\n",
       "std      21.141573    21.565234               0.498995\n",
       "min       8.000000    29.000000               0.000000\n",
       "25%      39.000000    52.000000               0.000000\n",
       "50%      55.000000    64.000000               1.000000\n",
       "75%      71.000000    85.000000               1.000000\n",
       "max     102.000000   119.000000               1.000000"
      ]
     },
     "execution_count": 157,
     "metadata": {},
     "output_type": "execute_result"
    }
   ],
   "source": [
    "df = pd.read_csv('health.csv')\n",
    "print(df.head())\n",
    "print(df.shape)\n",
    "df.describe(include='all')"
   ]
  },
  {
   "cell_type": "code",
   "execution_count": 158,
   "metadata": {},
   "outputs": [],
   "source": [
    "df.columns= ['weight','bp','y']"
   ]
  },
  {
   "cell_type": "code",
   "execution_count": 159,
   "metadata": {},
   "outputs": [
    {
     "data": {
      "text/html": [
       "<div>\n",
       "<style scoped>\n",
       "    .dataframe tbody tr th:only-of-type {\n",
       "        vertical-align: middle;\n",
       "    }\n",
       "\n",
       "    .dataframe tbody tr th {\n",
       "        vertical-align: top;\n",
       "    }\n",
       "\n",
       "    .dataframe thead th {\n",
       "        text-align: right;\n",
       "    }\n",
       "</style>\n",
       "<table border=\"1\" class=\"dataframe\">\n",
       "  <thead>\n",
       "    <tr style=\"text-align: right;\">\n",
       "      <th></th>\n",
       "      <th>weight</th>\n",
       "      <th>bp</th>\n",
       "    </tr>\n",
       "    <tr>\n",
       "      <th>y</th>\n",
       "      <th></th>\n",
       "      <th></th>\n",
       "    </tr>\n",
       "  </thead>\n",
       "  <tbody>\n",
       "    <tr>\n",
       "      <th>0</th>\n",
       "      <td>55.0</td>\n",
       "      <td>62.174877</td>\n",
       "    </tr>\n",
       "    <tr>\n",
       "      <th>1</th>\n",
       "      <td>55.0</td>\n",
       "      <td>73.825806</td>\n",
       "    </tr>\n",
       "  </tbody>\n",
       "</table>\n",
       "</div>"
      ],
      "text/plain": [
       "   weight         bp\n",
       "y                   \n",
       "0    55.0  62.174877\n",
       "1    55.0  73.825806"
      ]
     },
     "execution_count": 159,
     "metadata": {},
     "output_type": "execute_result"
    }
   ],
   "source": [
    "df.groupby('y').mean()"
   ]
  },
  {
   "cell_type": "code",
   "execution_count": 160,
   "metadata": {},
   "outputs": [
    {
     "data": {
      "image/png": "[encoded data removed]",
      "text/plain": [
       "<Figure size 432x288 with 1 Axes>"
      ]
     },
     "metadata": {},
     "output_type": "display_data"
    },
    {
     "data": {
      "image/png": "[encoded data removed]",
      "text/plain": [
       "<Figure size 432x288 with 1 Axes>"
      ]
     },
     "metadata": {},
     "output_type": "display_data"
    }
   ],
   "source": [
    "for i in df.columns:\n",
    "    if i!='y':\n",
    "        pd.crosstab(df[i],df.y).plot(kind='bar')\n",
    "        plt.xlabel(i)\n",
    "        plt.ylabel('No. of People suffering from HeartStroke')\n",
    "        plt.show()"
   ]
  },
  {
   "cell_type": "markdown",
   "metadata": {},
   "source": [
    "# .Develop a binomial  logistic regression using attributes BP + weight Observe all parameters (Null Deviance, Residual deviance, P value, Fisher score, AIC , Degree of freedom)"
   ]
  },
  {
   "cell_type": "code",
   "execution_count": 161,
   "metadata": {},
   "outputs": [
    {
     "name": "stdout",
     "output_type": "stream",
     "text": [
      "Optimization terminated successfully.\n",
      "         Current function value: 0.671541\n",
      "         Iterations 4\n",
      "                         Results: Logit\n",
      "=================================================================\n",
      "Model:              Logit            Pseudo R-squared: 0.028     \n",
      "Dependent Variable: y                AIC:              2343.6497 \n",
      "Date:               2019-04-26 22:37 BIC:              2354.5753 \n",
      "No. Observations:   1742             Log-Likelihood:   -1169.8   \n",
      "Df Model:           1                LL-Null:          -1203.5   \n",
      "Df Residuals:       1740             LLR p-value:      2.3606e-16\n",
      "Converged:          1.0000           Scale:            1.0000    \n",
      "No. Iterations:     4.0000                                       \n",
      "-------------------------------------------------------------------\n",
      "           Coef.    Std.Err.      z      P>|z|     [0.025    0.975]\n",
      "-------------------------------------------------------------------\n",
      "weight    -0.0113     0.0019   -6.1049   0.0000   -0.0149   -0.0077\n",
      "bp         0.0125     0.0016    8.0436   0.0000    0.0095    0.0155\n",
      "=================================================================\n",
      "\n"
     ]
    }
   ],
   "source": [
    "\n",
    "X = df.iloc[:,df.columns!='y']\n",
    "y = df.iloc[:,df.columns=='y']\n",
    "\n",
    "import statsmodels.api as sm\n",
    "\n",
    "Model = sm.Logit(y,X)\n",
    "Model = Model.fit()\n",
    "print(Model.summary2())"
   ]
  },
  {
   "cell_type": "code",
   "execution_count": 162,
   "metadata": {},
   "outputs": [
    {
     "name": "stderr",
     "output_type": "stream",
     "text": [
      "C:\\ProgramData\\Anaconda3\\lib\\site-packages\\sklearn\\utils\\validation.py:578: DataConversionWarning: A column-vector y was passed when a 1d array was expected. Please change the shape of y to (n_samples, ), for example using ravel().\n",
      "  y = column_or_1d(y, warn=True)\n"
     ]
    },
    {
     "data": {
      "text/plain": [
       "LogisticRegression(C=1.0, class_weight=None, dual=False, fit_intercept=True,\n",
       "          intercept_scaling=1, max_iter=100, multi_class='ovr', n_jobs=1,\n",
       "          penalty='l2', random_state=None, solver='liblinear', tol=0.0001,\n",
       "          verbose=0, warm_start=False)"
      ]
     },
     "execution_count": 162,
     "metadata": {},
     "output_type": "execute_result"
    }
   ],
   "source": [
    "#Implenting the model\n",
    "from sklearn.linear_model import LogisticRegression\n",
    "from sklearn import metrics\n",
    "\n",
    "X_train, X_test, y_train, y_test = train_test_split(X, y, test_size=0.3, random_state=0)\n",
    "logreg = LogisticRegression()\n",
    "logreg.fit(X_train, y_train)\n"
   ]
  },
  {
   "cell_type": "code",
   "execution_count": 163,
   "metadata": {
    "scrolled": true
   },
   "outputs": [
    {
     "name": "stdout",
     "output_type": "stream",
     "text": [
      "Real Observed\n",
      "1    282\n",
      "0    241\n",
      "Name: y, dtype: int64\n",
      "Observed by our Model\n"
     ]
    },
    {
     "data": {
      "text/plain": [
       "1    285\n",
       "0    238\n",
       "dtype: int64"
      ]
     },
     "execution_count": 163,
     "metadata": {},
     "output_type": "execute_result"
    }
   ],
   "source": [
    "y_pred = logreg.predict(X_test)\n",
    "\n",
    "print(\"Real Observed\")\n",
    "print(y_test.y.value_counts())\n",
    "\n",
    "print(\"Observed by our Model\")\n",
    "pd.Series(y_pred).value_counts()"
   ]
  },
  {
   "cell_type": "code",
   "execution_count": 164,
   "metadata": {},
   "outputs": [
    {
     "data": {
      "text/plain": [
       "<matplotlib.axes._subplots.AxesSubplot at 0x210794105f8>"
      ]
     },
     "execution_count": 164,
     "metadata": {},
     "output_type": "execute_result"
    },
    {
     "data": {
      "image/png": "[encoded data removed]",
      "text/plain": [
       "<Figure size 432x288 with 2 Axes>"
      ]
     },
     "metadata": {},
     "output_type": "display_data"
    }
   ],
   "source": [
    "from sklearn.metrics import confusion_matrix\n",
    "conf = confusion_matrix(y_test,y_pred)\n",
    "sns.heatmap(conf,annot=True,fmt='g',cmap='YlGnBu')"
   ]
  },
  {
   "cell_type": "code",
   "execution_count": 165,
   "metadata": {},
   "outputs": [
    {
     "name": "stdout",
     "output_type": "stream",
     "text": [
      "Accuracy: 0.5583173996175909\n",
      "Precision: 0.5894736842105263\n",
      "Recall: 0.5957446808510638\n",
      "F1 Score: 0.5925925925925924\n"
     ]
    }
   ],
   "source": [
    "print(\"Accuracy:\",metrics.accuracy_score(y_test, y_pred))\n",
    "print(\"Precision:\",metrics.precision_score(y_test, y_pred))\n",
    "print(\"Recall:\",metrics.recall_score(y_test, y_pred))\n",
    "print(\"F1 Score:\",metrics.f1_score(y_test, y_pred))"
   ]
  },
  {
   "cell_type": "markdown",
   "metadata": {},
   "source": [
    "# 3.Develop a binomial  logistic regression using single  attribute “BP” Observe changes in all parameters (Null Deviance, Residual deviance, P value, Fisher score, AIC , Degree of freedom)"
   ]
  },
  {
   "cell_type": "code",
   "execution_count": 166,
   "metadata": {},
   "outputs": [
    {
     "name": "stdout",
     "output_type": "stream",
     "text": [
      "Optimization terminated successfully.\n",
      "         Current function value: 0.682515\n",
      "         Iterations 4\n",
      "                         Results: Logit\n",
      "================================================================\n",
      "Model:              Logit            Pseudo R-squared: 0.012    \n",
      "Dependent Variable: y                AIC:              2379.8825\n",
      "Date:               2019-04-26 22:37 BIC:              2385.3453\n",
      "No. Observations:   1742             Log-Likelihood:   -1188.9  \n",
      "Df Model:           0                LL-Null:          -1203.5  \n",
      "Df Residuals:       1741             LLR p-value:      nan      \n",
      "Converged:          1.0000           Scale:            1.0000   \n",
      "No. Iterations:     4.0000                                      \n",
      "-------------------------------------------------------------------\n",
      "         Coef.     Std.Err.      z       P>|z|     [0.025    0.975]\n",
      "-------------------------------------------------------------------\n",
      "bp       0.0041      0.0007    6.0416    0.0000    0.0028    0.0054\n",
      "================================================================\n",
      "\n"
     ]
    }
   ],
   "source": [
    "X = df.iloc[:,df.columns== 'bp']\n",
    "y = df.iloc[:,df.columns=='y']\n",
    "\n",
    "import statsmodels.api as sm\n",
    "\n",
    "Model = sm.Logit(y,X)\n",
    "Model = Model.fit()\n",
    "print(Model.summary2())"
   ]
  },
  {
   "cell_type": "code",
   "execution_count": 167,
   "metadata": {
    "scrolled": true
   },
   "outputs": [
    {
     "name": "stderr",
     "output_type": "stream",
     "text": [
      "C:\\ProgramData\\Anaconda3\\lib\\site-packages\\sklearn\\utils\\validation.py:578: DataConversionWarning: A column-vector y was passed when a 1d array was expected. Please change the shape of y to (n_samples, ), for example using ravel().\n",
      "  y = column_or_1d(y, warn=True)\n"
     ]
    },
    {
     "data": {
      "text/plain": [
       "LogisticRegression(C=1.0, class_weight=None, dual=False, fit_intercept=True,\n",
       "          intercept_scaling=1, max_iter=100, multi_class='ovr', n_jobs=1,\n",
       "          penalty='l2', random_state=None, solver='liblinear', tol=0.0001,\n",
       "          verbose=0, warm_start=False)"
      ]
     },
     "execution_count": 167,
     "metadata": {},
     "output_type": "execute_result"
    }
   ],
   "source": [
    "#Implenting the model\n",
    "from sklearn.linear_model import LogisticRegression\n",
    "from sklearn import metrics\n",
    "\n",
    "X_train, X_test, y_train, y_test = train_test_split(X, y, test_size=0.3, random_state=0)\n",
    "logreg = LogisticRegression()\n",
    "logreg.fit(X_train, y_train)"
   ]
  },
  {
   "cell_type": "code",
   "execution_count": 168,
   "metadata": {},
   "outputs": [
    {
     "name": "stdout",
     "output_type": "stream",
     "text": [
      "Real Observed\n",
      "1    282\n",
      "0    241\n",
      "Name: y, dtype: int64\n",
      "Observed by our Model\n"
     ]
    },
    {
     "data": {
      "text/plain": [
       "1    288\n",
       "0    235\n",
       "dtype: int64"
      ]
     },
     "execution_count": 168,
     "metadata": {},
     "output_type": "execute_result"
    }
   ],
   "source": [
    "y_pred = logreg.predict(X_test)\n",
    "\n",
    "print(\"Real Observed\")\n",
    "print(y_test.y.value_counts())\n",
    "\n",
    "print(\"Observed by our Model\")\n",
    "pd.Series(ypred).value_counts()"
   ]
  },
  {
   "cell_type": "code",
   "execution_count": 169,
   "metadata": {
    "scrolled": true
   },
   "outputs": [
    {
     "data": {
      "text/plain": [
       "<matplotlib.axes._subplots.AxesSubplot at 0x210006cfa90>"
      ]
     },
     "execution_count": 169,
     "metadata": {},
     "output_type": "execute_result"
    },
    {
     "data": {
      "image/png": "[encoded data removed]",
      "text/plain": [
       "<Figure size 432x288 with 2 Axes>"
      ]
     },
     "metadata": {},
     "output_type": "display_data"
    }
   ],
   "source": [
    "from sklearn.metrics import confusion_matrix\n",
    "conf = confusion_matrix(y_test,y_pred)\n",
    "sns.heatmap(conf,annot=True,fmt='g',cmap='YlGnBu')"
   ]
  },
  {
   "cell_type": "code",
   "execution_count": 170,
   "metadata": {},
   "outputs": [
    {
     "name": "stdout",
     "output_type": "stream",
     "text": [
      "Accuracy: 0.5487571701720841\n",
      "Precision: 0.5798611111111112\n",
      "Recall: 0.5921985815602837\n",
      "F1 Score: 0.5859649122807018\n"
     ]
    }
   ],
   "source": [
    "print(\"Accuracy:\",metrics.accuracy_score(y_test, y_pred))\n",
    "print(\"Precision:\",metrics.precision_score(y_test, y_pred))\n",
    "print(\"Recall:\",metrics.recall_score(y_test, y_pred))\n",
    "print(\"F1 Score:\",metrics.f1_score(y_test, y_pred))"
   ]
  },
  {
   "cell_type": "markdown",
   "metadata": {},
   "source": [
    "# 4. First Model is better than second model because accuracy, precision, recall all values for first model are greater than the second Model"
   ]
  },
  {
   "cell_type": "markdown",
   "metadata": {},
   "source": [
    "# 5.Observe data distribution"
   ]
  },
  {
   "cell_type": "code",
   "execution_count": 171,
   "metadata": {},
   "outputs": [
    {
     "name": "stderr",
     "output_type": "stream",
     "text": [
      "C:\\ProgramData\\Anaconda3\\lib\\site-packages\\matplotlib\\axes\\_axes.py:6462: UserWarning: The 'normed' kwarg is deprecated, and has been replaced by the 'density' kwarg.\n",
      "  warnings.warn(\"The 'normed' kwarg is deprecated, and has been \"\n",
      "C:\\ProgramData\\Anaconda3\\lib\\site-packages\\matplotlib\\axes\\_axes.py:6462: UserWarning: The 'normed' kwarg is deprecated, and has been replaced by the 'density' kwarg.\n",
      "  warnings.warn(\"The 'normed' kwarg is deprecated, and has been \"\n"
     ]
    },
    {
     "data": {
      "text/plain": [
       "<seaborn.axisgrid.JointGrid at 0x21000703ba8>"
      ]
     },
     "execution_count": 171,
     "metadata": {},
     "output_type": "execute_result"
    },
    {
     "data": {
      "image/png": "[encoded data removed]",
      "text/plain": [
       "<Figure size 432x432 with 3 Axes>"
      ]
     },
     "metadata": {},
     "output_type": "display_data"
    }
   ],
   "source": [
    "sns.jointplot(x=\"weight\", y=\"bp\", data=df)"
   ]
  },
  {
   "cell_type": "markdown",
   "metadata": {},
   "source": [
    "# 6.One of many solutions can be \n",
    "BPS = BP*BP    \n",
    "weights = weight*weight \n",
    "BPweight = BP*weightdf\n",
    "\n",
    "m1=glm(Suffered.Heart.storke~BP+weight+weights+BPS+BPweight,family=binomial)\n",
    "m1=glm(Suffered.Heart.storke~BP+weight+weights+BPS,family=binomial)"
   ]
  },
  {
   "cell_type": "code",
   "execution_count": 172,
   "metadata": {},
   "outputs": [],
   "source": [
    "bps = df.bp*df.bp\n",
    "weights = df.weight*df.weight\n",
    "bpweight = df.bp*df.weight"
   ]
  },
  {
   "cell_type": "code",
   "execution_count": 173,
   "metadata": {},
   "outputs": [],
   "source": [
    "df['bps']= bps\n",
    "df['weights']= weights\n",
    "df['bpweight']= bpweight"
   ]
  },
  {
   "cell_type": "code",
   "execution_count": 174,
   "metadata": {},
   "outputs": [
    {
     "name": "stdout",
     "output_type": "stream",
     "text": [
      "Optimization terminated successfully.\n",
      "         Current function value: 0.378287\n",
      "         Iterations 8\n"
     ]
    },
    {
     "data": {
      "text/html": [
       "<table class=\"simpletable\">\n",
       "<tr>\n",
       "        <td>Model:</td>              <td>Logit</td>      <td>Pseudo R-squared:</td>    <td>0.452</td>   \n",
       "</tr>\n",
       "<tr>\n",
       "  <td>Dependent Variable:</td>         <td>y</td>              <td>AIC:</td>         <td>1327.9532</td> \n",
       "</tr>\n",
       "<tr>\n",
       "         <td>Date:</td>        <td>2019-04-26 22:37</td>       <td>BIC:</td>         <td>1355.2671</td> \n",
       "</tr>\n",
       "<tr>\n",
       "   <td>No. Observations:</td>        <td>1742</td>        <td>Log-Likelihood:</td>    <td>-658.98</td>  \n",
       "</tr>\n",
       "<tr>\n",
       "       <td>Df Model:</td>              <td>4</td>            <td>LL-Null:</td>        <td>-1203.5</td>  \n",
       "</tr>\n",
       "<tr>\n",
       "     <td>Df Residuals:</td>          <td>1737</td>         <td>LLR p-value:</td>    <td>1.8597e-234</td>\n",
       "</tr>\n",
       "<tr>\n",
       "      <td>Converged:</td>           <td>1.0000</td>           <td>Scale:</td>         <td>1.0000</td>   \n",
       "</tr>\n",
       "<tr>\n",
       "    <td>No. Iterations:</td>        <td>8.0000</td>              <td></td>               <td></td>      \n",
       "</tr>\n",
       "</table>\n",
       "<table class=\"simpletable\">\n",
       "<tr>\n",
       "      <td></td>      <th>Coef.</th>  <th>Std.Err.</th>     <th>z</th>     <th>P>|z|</th> <th>[0.025</th>  <th>0.975]</th> \n",
       "</tr>\n",
       "<tr>\n",
       "  <th>weight</th>   <td>-0.1600</td>  <td>0.0160</td>   <td>-9.9997</td> <td>0.0000</td> <td>-0.1914</td> <td>-0.1286</td>\n",
       "</tr>\n",
       "<tr>\n",
       "  <th>bp</th>       <td>0.0013</td>   <td>0.0128</td>   <td>0.1037</td>  <td>0.9174</td> <td>-0.0237</td> <td>0.0263</td> \n",
       "</tr>\n",
       "<tr>\n",
       "  <th>bps</th>      <td>0.0023</td>   <td>0.0002</td>   <td>12.7014</td> <td>0.0000</td> <td>0.0020</td>  <td>0.0027</td> \n",
       "</tr>\n",
       "<tr>\n",
       "  <th>weights</th>  <td>0.0049</td>   <td>0.0003</td>   <td>17.7593</td> <td>0.0000</td> <td>0.0044</td>  <td>0.0054</td> \n",
       "</tr>\n",
       "<tr>\n",
       "  <th>bpweight</th> <td>-0.0051</td>  <td>0.0003</td>  <td>-16.3239</td> <td>0.0000</td> <td>-0.0057</td> <td>-0.0045</td>\n",
       "</tr>\n",
       "</table>"
      ],
      "text/plain": [
       "<class 'statsmodels.iolib.summary2.Summary'>\n",
       "\"\"\"\n",
       "                          Results: Logit\n",
       "==================================================================\n",
       "Model:              Logit            Pseudo R-squared: 0.452      \n",
       "Dependent Variable: y                AIC:              1327.9532  \n",
       "Date:               2019-04-26 22:37 BIC:              1355.2671  \n",
       "No. Observations:   1742             Log-Likelihood:   -658.98    \n",
       "Df Model:           4                LL-Null:          -1203.5    \n",
       "Df Residuals:       1737             LLR p-value:      1.8597e-234\n",
       "Converged:          1.0000           Scale:            1.0000     \n",
       "No. Iterations:     8.0000                                        \n",
       "-------------------------------------------------------------------\n",
       "               Coef.   Std.Err.     z      P>|z|    [0.025   0.975]\n",
       "-------------------------------------------------------------------\n",
       "weight        -0.1600    0.0160   -9.9997  0.0000  -0.1914  -0.1286\n",
       "bp             0.0013    0.0128    0.1037  0.9174  -0.0237   0.0263\n",
       "bps            0.0023    0.0002   12.7014  0.0000   0.0020   0.0027\n",
       "weights        0.0049    0.0003   17.7593  0.0000   0.0044   0.0054\n",
       "bpweight      -0.0051    0.0003  -16.3239  0.0000  -0.0057  -0.0045\n",
       "==================================================================\n",
       "\n",
       "\"\"\""
      ]
     },
     "execution_count": 174,
     "metadata": {},
     "output_type": "execute_result"
    }
   ],
   "source": [
    "X = df.iloc[:,df.columns!='y']\n",
    "y = df.iloc[:,df.columns=='y']\n",
    "\n",
    "Model = sm.Logit(y,X)\n",
    "Model = Model.fit()\n",
    "Model.summary2()"
   ]
  },
  {
   "cell_type": "code",
   "execution_count": 175,
   "metadata": {},
   "outputs": [
    {
     "name": "stderr",
     "output_type": "stream",
     "text": [
      "C:\\ProgramData\\Anaconda3\\lib\\site-packages\\sklearn\\utils\\validation.py:578: DataConversionWarning: A column-vector y was passed when a 1d array was expected. Please change the shape of y to (n_samples, ), for example using ravel().\n",
      "  y = column_or_1d(y, warn=True)\n"
     ]
    }
   ],
   "source": [
    "X_train, X_test, y_train, y_test = train_test_split(X, y, test_size=0.3, random_state=0)\n",
    "logreg = LogisticRegression()\n",
    "logreg.fit(X_train, y_train)\n",
    "y_pred = logreg.predict(X_test)"
   ]
  },
  {
   "cell_type": "code",
   "execution_count": 176,
   "metadata": {},
   "outputs": [
    {
     "data": {
      "text/plain": [
       "<matplotlib.axes._subplots.AxesSubplot at 0x210005fc390>"
      ]
     },
     "execution_count": 176,
     "metadata": {},
     "output_type": "execute_result"
    },
    {
     "data": {
      "image/png": "[encoded data removed]",
      "text/plain": [
       "<Figure size 432x288 with 2 Axes>"
      ]
     },
     "metadata": {},
     "output_type": "display_data"
    }
   ],
   "source": [
    "from sklearn.metrics import confusion_matrix\n",
    "conf = confusion_matrix(y_test,y_pred)\n",
    "sns.heatmap(conf,annot=True,fmt='g',cmap='YlGnBu')"
   ]
  },
  {
   "cell_type": "code",
   "execution_count": 177,
   "metadata": {},
   "outputs": [
    {
     "name": "stdout",
     "output_type": "stream",
     "text": [
      "Accuracy :  0.8508604206500956\n",
      "Precision: 0.9180327868852459\n",
      "Recall: 0.7943262411347518\n",
      "F1 Score: 0.8517110266159698\n"
     ]
    }
   ],
   "source": [
    "print(\"Accuracy : \",metrics.accuracy_score(y_test,y_pred))\n",
    "print(\"Precision:\",metrics.precision_score(y_test, y_pred))\n",
    "print(\"Recall:\",metrics.recall_score(y_test, y_pred))\n",
    "print(\"F1 Score:\",metrics.f1_score(y_test, y_pred))"
   ]
  },
  {
   "cell_type": "code",
   "execution_count": 178,
   "metadata": {},
   "outputs": [
    {
     "name": "stdout",
     "output_type": "stream",
     "text": [
      "Optimization terminated successfully.\n",
      "         Current function value: 0.525176\n",
      "         Iterations 6\n"
     ]
    },
    {
     "data": {
      "text/html": [
       "<table class=\"simpletable\">\n",
       "<tr>\n",
       "        <td>Model:</td>              <td>Logit</td>      <td>Pseudo R-squared:</td>    <td>0.240</td>   \n",
       "</tr>\n",
       "<tr>\n",
       "  <td>Dependent Variable:</td>         <td>y</td>              <td>AIC:</td>         <td>1837.7145</td> \n",
       "</tr>\n",
       "<tr>\n",
       "         <td>Date:</td>        <td>2019-04-26 22:37</td>       <td>BIC:</td>         <td>1859.5656</td> \n",
       "</tr>\n",
       "<tr>\n",
       "   <td>No. Observations:</td>        <td>1742</td>        <td>Log-Likelihood:</td>    <td>-914.86</td>  \n",
       "</tr>\n",
       "<tr>\n",
       "       <td>Df Model:</td>              <td>3</td>            <td>LL-Null:</td>        <td>-1203.5</td>  \n",
       "</tr>\n",
       "<tr>\n",
       "     <td>Df Residuals:</td>          <td>1738</td>         <td>LLR p-value:</td>    <td>8.7814e-125</td>\n",
       "</tr>\n",
       "<tr>\n",
       "      <td>Converged:</td>           <td>1.0000</td>           <td>Scale:</td>         <td>1.0000</td>   \n",
       "</tr>\n",
       "<tr>\n",
       "    <td>No. Iterations:</td>        <td>6.0000</td>              <td></td>               <td></td>      \n",
       "</tr>\n",
       "</table>\n",
       "<table class=\"simpletable\">\n",
       "<tr>\n",
       "     <td></td>      <th>Coef.</th>  <th>Std.Err.</th>     <th>z</th>     <th>P>|z|</th> <th>[0.025</th>  <th>0.975]</th> \n",
       "</tr>\n",
       "<tr>\n",
       "  <th>weight</th>  <td>-0.1800</td>  <td>0.0119</td>  <td>-15.0901</td> <td>0.0000</td> <td>-0.2034</td> <td>-0.1566</td>\n",
       "</tr>\n",
       "<tr>\n",
       "  <th>bp</th>      <td>0.0680</td>   <td>0.0086</td>   <td>7.9571</td>  <td>0.0000</td> <td>0.0513</td>  <td>0.0848</td> \n",
       "</tr>\n",
       "<tr>\n",
       "  <th>bps</th>     <td>-0.0002</td>  <td>0.0001</td>   <td>-2.6521</td> <td>0.0080</td> <td>-0.0003</td> <td>-0.0000</td>\n",
       "</tr>\n",
       "<tr>\n",
       "  <th>weights</th> <td>0.0018</td>   <td>0.0001</td>   <td>15.6350</td> <td>0.0000</td> <td>0.0016</td>  <td>0.0020</td> \n",
       "</tr>\n",
       "</table>"
      ],
      "text/plain": [
       "<class 'statsmodels.iolib.summary2.Summary'>\n",
       "\"\"\"\n",
       "                          Results: Logit\n",
       "==================================================================\n",
       "Model:              Logit            Pseudo R-squared: 0.240      \n",
       "Dependent Variable: y                AIC:              1837.7145  \n",
       "Date:               2019-04-26 22:37 BIC:              1859.5656  \n",
       "No. Observations:   1742             Log-Likelihood:   -914.86    \n",
       "Df Model:           3                LL-Null:          -1203.5    \n",
       "Df Residuals:       1738             LLR p-value:      8.7814e-125\n",
       "Converged:          1.0000           Scale:            1.0000     \n",
       "No. Iterations:     6.0000                                        \n",
       "--------------------------------------------------------------------\n",
       "           Coef.    Std.Err.      z       P>|z|     [0.025    0.975]\n",
       "--------------------------------------------------------------------\n",
       "weight    -0.1800     0.0119   -15.0901   0.0000   -0.2034   -0.1566\n",
       "bp         0.0680     0.0086     7.9571   0.0000    0.0513    0.0848\n",
       "bps       -0.0002     0.0001    -2.6521   0.0080   -0.0003   -0.0000\n",
       "weights    0.0018     0.0001    15.6350   0.0000    0.0016    0.0020\n",
       "==================================================================\n",
       "\n",
       "\"\"\""
      ]
     },
     "execution_count": 178,
     "metadata": {},
     "output_type": "execute_result"
    }
   ],
   "source": [
    "df = df.drop(columns='bpweight')\n",
    "X = df.iloc[:,df.columns!='y']\n",
    "y = df.iloc[:,df.columns=='y']\n",
    "Model = sm.Logit(y,X)\n",
    "Model = Model.fit()\n",
    "Model.summary2()"
   ]
  },
  {
   "cell_type": "code",
   "execution_count": 183,
   "metadata": {},
   "outputs": [
    {
     "name": "stdout",
     "output_type": "stream",
     "text": [
      "[0.15195892]\n",
      "[[-1.91187860e-01  6.74430728e-02 -1.61041123e-04  1.91396605e-03]]\n"
     ]
    },
    {
     "name": "stderr",
     "output_type": "stream",
     "text": [
      "C:\\ProgramData\\Anaconda3\\lib\\site-packages\\sklearn\\utils\\validation.py:578: DataConversionWarning: A column-vector y was passed when a 1d array was expected. Please change the shape of y to (n_samples, ), for example using ravel().\n",
      "  y = column_or_1d(y, warn=True)\n"
     ]
    }
   ],
   "source": [
    "X_train, X_test, y_train, y_test = train_test_split(X, y, test_size=0.3, random_state=0)\n",
    "logreg = LogisticRegression()\n",
    "\n",
    "logreg.fit(X_train, y_train)\n",
    "y_pred = logreg.predict(X_test)\n",
    "print(logreg.intercept_)\n",
    "print(logreg.coef_)"
   ]
  },
  {
   "cell_type": "code",
   "execution_count": 180,
   "metadata": {},
   "outputs": [
    {
     "data": {
      "text/plain": [
       "<matplotlib.axes._subplots.AxesSubplot at 0x21000cea390>"
      ]
     },
     "execution_count": 180,
     "metadata": {},
     "output_type": "execute_result"
    },
    {
     "data": {
      "image/png": "[encoded data removed]",
      "text/plain": [
       "<Figure size 432x288 with 2 Axes>"
      ]
     },
     "metadata": {},
     "output_type": "display_data"
    }
   ],
   "source": [
    "from sklearn.metrics import confusion_matrix\n",
    "conf = confusion_matrix(y_test,y_pred)\n",
    "sns.heatmap(conf,annot=True,fmt='g',cmap='YlGnBu')"
   ]
  },
  {
   "cell_type": "code",
   "execution_count": 181,
   "metadata": {},
   "outputs": [
    {
     "name": "stdout",
     "output_type": "stream",
     "text": [
      "Accuracy :  0.8011472275334608\n",
      "Precision: 0.8396946564885496\n",
      "Recall: 0.7801418439716312\n",
      "F1 Score: 0.8088235294117647\n"
     ]
    }
   ],
   "source": [
    "print(\"Accuracy : \",metrics.accuracy_score(y_test,y_pred))\n",
    "print(\"Precision:\",metrics.precision_score(y_test, y_pred))\n",
    "print(\"Recall:\",metrics.recall_score(y_test, y_pred))\n",
    "print(\"F1 Score:\",metrics.f1_score(y_test, y_pred))"
   ]
  }
 ],
 "metadata": {
  "kernelspec": {
   "display_name": "Python 3",
   "language": "python",
   "name": "python3"
  },
  "language_info": {
   "codemirror_mode": {
    "name": "ipython",
    "version": 3
   },
   "file_extension": ".py",
   "mimetype": "text/x-python",
   "name": "python",
   "nbconvert_exporter": "python",
   "pygments_lexer": "ipython3",
   "version": "3.6.5"
  }
 },
 "nbformat": 4,
 "nbformat_minor": 2
}
