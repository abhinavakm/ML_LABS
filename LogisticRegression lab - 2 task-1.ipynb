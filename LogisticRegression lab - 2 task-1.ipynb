{
 "cells": [
  {
   "cell_type": "markdown",
   "metadata": {},
   "source": [
    "# Task-1: Loan repay prediction using bank data.\n",
    "1.Download bank dataset-\n",
    "https://drive.google.com/open?id=1vHVyDJz6AJFg2lCLjNaijdPGbiSh5DWu\n",
    "2.Develop a binomial  logistic regression using single attribute “age”\n",
    "Observe all parameters (Null Deviance, Residual deviance, P value, Fisher score, AIC , Degree of freedom)\n",
    "3.Develop a binomial  logistic regression using two  attribute “age + salary”\n",
    "Observe changes in all parameters (Null Deviance, Residual deviance, P value, Fisher score, AIC , Degree of freedom)"
   ]
  },
  {
   "cell_type": "code",
   "execution_count": 1,
   "metadata": {},
   "outputs": [],
   "source": [
    "import pandas as pd\n",
    "import numpy as np\n",
    "from sklearn.linear_model import LogisticRegression\n",
    "from sklearn.model_selection import train_test_split\n",
    "import matplotlib.pyplot as plt\n",
    "import seaborn as sns\n",
    "sns.set(style=\"white\")\n",
    "sns.set(style=\"whitegrid\", color_codes=True)"
   ]
  },
  {
   "cell_type": "code",
   "execution_count": 2,
   "metadata": {},
   "outputs": [
    {
     "name": "stdout",
     "output_type": "stream",
     "text": [
      "   age  salary  repaid\n",
      "0   70      55       1\n",
      "1   96      51       1\n",
      "2   86      71       1\n",
      "3   87      67       1\n",
      "4   77      87       1\n",
      "(2952, 3)\n"
     ]
    },
    {
     "data": {
      "text/html": [
       "<div>\n",
       "<style scoped>\n",
       "    .dataframe tbody tr th:only-of-type {\n",
       "        vertical-align: middle;\n",
       "    }\n",
       "\n",
       "    .dataframe tbody tr th {\n",
       "        vertical-align: top;\n",
       "    }\n",
       "\n",
       "    .dataframe thead th {\n",
       "        text-align: right;\n",
       "    }\n",
       "</style>\n",
       "<table border=\"1\" class=\"dataframe\">\n",
       "  <thead>\n",
       "    <tr style=\"text-align: right;\">\n",
       "      <th></th>\n",
       "      <th>age</th>\n",
       "      <th>salary</th>\n",
       "      <th>repaid</th>\n",
       "    </tr>\n",
       "  </thead>\n",
       "  <tbody>\n",
       "    <tr>\n",
       "      <th>count</th>\n",
       "      <td>2952.000000</td>\n",
       "      <td>2952.00000</td>\n",
       "      <td>2952.000000</td>\n",
       "    </tr>\n",
       "    <tr>\n",
       "      <th>mean</th>\n",
       "      <td>64.475271</td>\n",
       "      <td>65.01355</td>\n",
       "      <td>0.685637</td>\n",
       "    </tr>\n",
       "    <tr>\n",
       "      <th>std</th>\n",
       "      <td>20.705010</td>\n",
       "      <td>21.74503</td>\n",
       "      <td>0.464340</td>\n",
       "    </tr>\n",
       "    <tr>\n",
       "      <th>min</th>\n",
       "      <td>9.000000</td>\n",
       "      <td>-14.00000</td>\n",
       "      <td>0.000000</td>\n",
       "    </tr>\n",
       "    <tr>\n",
       "      <th>25%</th>\n",
       "      <td>52.000000</td>\n",
       "      <td>52.00000</td>\n",
       "      <td>0.000000</td>\n",
       "    </tr>\n",
       "    <tr>\n",
       "      <th>50%</th>\n",
       "      <td>65.000000</td>\n",
       "      <td>65.00000</td>\n",
       "      <td>1.000000</td>\n",
       "    </tr>\n",
       "    <tr>\n",
       "      <th>75%</th>\n",
       "      <td>81.000000</td>\n",
       "      <td>79.00000</td>\n",
       "      <td>1.000000</td>\n",
       "    </tr>\n",
       "    <tr>\n",
       "      <th>max</th>\n",
       "      <td>99.000000</td>\n",
       "      <td>133.00000</td>\n",
       "      <td>1.000000</td>\n",
       "    </tr>\n",
       "  </tbody>\n",
       "</table>\n",
       "</div>"
      ],
      "text/plain": [
       "               age      salary       repaid\n",
       "count  2952.000000  2952.00000  2952.000000\n",
       "mean     64.475271    65.01355     0.685637\n",
       "std      20.705010    21.74503     0.464340\n",
       "min       9.000000   -14.00000     0.000000\n",
       "25%      52.000000    52.00000     0.000000\n",
       "50%      65.000000    65.00000     1.000000\n",
       "75%      81.000000    79.00000     1.000000\n",
       "max      99.000000   133.00000     1.000000"
      ]
     },
     "execution_count": 2,
     "metadata": {},
     "output_type": "execute_result"
    }
   ],
   "source": [
    "df = pd.read_csv('bank1.csv')\n",
    "print(df.head())\n",
    "print(df.shape)\n",
    "df.describe(include='all')"
   ]
  },
  {
   "cell_type": "code",
   "execution_count": 3,
   "metadata": {},
   "outputs": [
    {
     "name": "stdout",
     "output_type": "stream",
     "text": [
      "1    2024\n",
      "0     928\n",
      "Name: repaid, dtype: int64\n",
      "percentage of Not Repaid is  31.43631436314363\n",
      "percentage of Repaid is 68.56368563685636\n"
     ]
    },
    {
     "data": {
      "image/png": "[encoded data removed]",
      "text/plain": [
       "<Figure size 432x288 with 1 Axes>"
      ]
     },
     "metadata": {},
     "output_type": "display_data"
    }
   ],
   "source": [
    "print(df.repaid.value_counts())\n",
    "\n",
    "sns.countplot(x=df.repaid,palette='hls')\n",
    "NoRepaid = len(df[df['repaid']==0])\n",
    "Repaid = len(df[df['repaid']==1])\n",
    "percentofNoRepaid = NoRepaid/(NoRepaid+Repaid)\n",
    "print(\"percentage of Not Repaid is \", percentofNoRepaid*100)\n",
    "percentRepaid = Repaid/(NoRepaid+Repaid)\n",
    "print(\"percentage of Repaid is\", percentRepaid*100)\n"
   ]
  },
  {
   "cell_type": "code",
   "execution_count": 4,
   "metadata": {},
   "outputs": [
    {
     "name": "stdout",
     "output_type": "stream",
     "text": [
      "              age     salary\n",
      "repaid                      \n",
      "0       46.528017  53.391164\n",
      "1       72.704051  70.342391\n"
     ]
    }
   ],
   "source": [
    "print(df.groupby(df.repaid).mean())"
   ]
  },
  {
   "cell_type": "code",
   "execution_count": 5,
   "metadata": {},
   "outputs": [
    {
     "name": "stdout",
     "output_type": "stream",
     "text": [
      "Optimization terminated successfully.\n",
      "         Current function value: 0.547991\n",
      "         Iterations 5\n",
      "                           Logit Regression Results                           \n",
      "==============================================================================\n",
      "Dep. Variable:                 repaid   No. Observations:                 2952\n",
      "Model:                          Logit   Df Residuals:                     2950\n",
      "Method:                           MLE   Df Model:                            1\n",
      "Date:                Fri, 26 Apr 2019   Pseudo R-squ.:                  0.1198\n",
      "Time:                        15:50:26   Log-Likelihood:                -1617.7\n",
      "converged:                       True   LL-Null:                       -1837.8\n",
      "                                        LLR p-value:                 9.877e-98\n",
      "==============================================================================\n",
      "                 coef    std err          z      P>|z|      [0.025      0.975]\n",
      "------------------------------------------------------------------------------\n",
      "age            0.0203      0.001     13.651      0.000       0.017       0.023\n",
      "salary        -0.0028      0.001     -2.017      0.044      -0.005   -7.79e-05\n",
      "==============================================================================\n",
      "                         Results: Logit\n",
      "=================================================================\n",
      "Model:              Logit            Pseudo R-squared: 0.120     \n",
      "Dependent Variable: repaid           AIC:              3239.3363 \n",
      "Date:               2019-04-26 15:50 BIC:              3251.3168 \n",
      "No. Observations:   2952             Log-Likelihood:   -1617.7   \n",
      "Df Model:           1                LL-Null:          -1837.8   \n",
      "Df Residuals:       2950             LLR p-value:      9.8767e-98\n",
      "Converged:          1.0000           Scale:            1.0000    \n",
      "No. Iterations:     5.0000                                       \n",
      "-------------------------------------------------------------------\n",
      "           Coef.    Std.Err.      z      P>|z|     [0.025    0.975]\n",
      "-------------------------------------------------------------------\n",
      "age        0.0203     0.0015   13.6513   0.0000    0.0174    0.0232\n",
      "salary    -0.0028     0.0014   -2.0168   0.0437   -0.0055   -0.0001\n",
      "=================================================================\n",
      "\n"
     ]
    }
   ],
   "source": [
    "X = df.iloc[:,df.columns!='repaid']\n",
    "y = df.iloc[:,df.columns=='repaid']\n",
    "\n",
    "import statsmodels.api as sm\n",
    "\n",
    "Model = sm.Logit(y,X)\n",
    "Model = Model.fit()\n",
    "print(Model.summary())\n",
    "print(Model.summary2())"
   ]
  },
  {
   "cell_type": "code",
   "execution_count": 6,
   "metadata": {
    "scrolled": true
   },
   "outputs": [
    {
     "name": "stderr",
     "output_type": "stream",
     "text": [
      "C:\\ProgramData\\Anaconda3\\lib\\site-packages\\sklearn\\utils\\validation.py:578: DataConversionWarning: A column-vector y was passed when a 1d array was expected. Please change the shape of y to (n_samples, ), for example using ravel().\n",
      "  y = column_or_1d(y, warn=True)\n"
     ]
    },
    {
     "data": {
      "text/plain": [
       "LogisticRegression(C=1.0, class_weight=None, dual=False, fit_intercept=True,\n",
       "          intercept_scaling=1, max_iter=100, multi_class='ovr', n_jobs=1,\n",
       "          penalty='l2', random_state=None, solver='liblinear', tol=0.0001,\n",
       "          verbose=0, warm_start=False)"
      ]
     },
     "execution_count": 6,
     "metadata": {},
     "output_type": "execute_result"
    }
   ],
   "source": [
    "#Implenting the model\n",
    "from sklearn.linear_model import LogisticRegression\n",
    "from sklearn import metrics\n",
    "\n",
    "X_train, X_test, y_train, y_test = train_test_split(X, y, test_size=0.3, random_state=0)\n",
    "logreg = LogisticRegression()\n",
    "logreg.fit(X_train, y_train)\n"
   ]
  },
  {
   "cell_type": "code",
   "execution_count": 7,
   "metadata": {},
   "outputs": [
    {
     "name": "stdout",
     "output_type": "stream",
     "text": [
      "1    629\n",
      "0    257\n",
      "Name: Predicted, dtype: int64\n",
      "Accuracy of logistic regression classifier on test set: 0.88\n"
     ]
    }
   ],
   "source": [
    "y_pred = logreg.predict(X_test)\n",
    "q=pd.DataFrame(y_pred,columns=['Predicted'])\n",
    "print(q.Predicted.value_counts())\n",
    "print('Accuracy of logistic regression classifier on test set: {:.2f}'.format(logreg.score(X_test, y_test)))"
   ]
  },
  {
   "cell_type": "code",
   "execution_count": 8,
   "metadata": {},
   "outputs": [
    {
     "name": "stdout",
     "output_type": "stream",
     "text": [
      "[[213  61]\n",
      " [ 44 568]]\n"
     ]
    },
    {
     "data": {
      "text/plain": [
       "<matplotlib.axes._subplots.AxesSubplot at 0x1e7fd845ba8>"
      ]
     },
     "execution_count": 8,
     "metadata": {},
     "output_type": "execute_result"
    },
    {
     "data": {
      "image/png": "[encoded data removed]",
      "text/plain": [
       "<Figure size 432x288 with 2 Axes>"
      ]
     },
     "metadata": {},
     "output_type": "display_data"
    }
   ],
   "source": [
    "from sklearn.metrics import confusion_matrix\n",
    "confusion_matrix = confusion_matrix(y_test, y_pred)\n",
    "print(confusion_matrix)\n",
    "\n",
    "sns.heatmap(confusion_matrix,annot=True, cmap=\"YlGnBu\" ,fmt='g')"
   ]
  },
  {
   "cell_type": "code",
   "execution_count": 9,
   "metadata": {},
   "outputs": [
    {
     "name": "stdout",
     "output_type": "stream",
     "text": [
      "             precision    recall  f1-score   support\n",
      "\n",
      "          0       0.83      0.78      0.80       274\n",
      "          1       0.90      0.93      0.92       612\n",
      "\n",
      "avg / total       0.88      0.88      0.88       886\n",
      "\n"
     ]
    }
   ],
   "source": [
    "from sklearn.metrics import classification_report\n",
    "print(classification_report(y_test, y_pred))"
   ]
  }
 ],
 "metadata": {
  "kernelspec": {
   "display_name": "Python 3",
   "language": "python",
   "name": "python3"
  },
  "language_info": {
   "codemirror_mode": {
    "name": "ipython",
    "version": 3
   },
   "file_extension": ".py",
   "mimetype": "text/x-python",
   "name": "python",
   "nbconvert_exporter": "python",
   "pygments_lexer": "ipython3",
   "version": "3.6.5"
  }
 },
 "nbformat": 4,
 "nbformat_minor": 2
}
