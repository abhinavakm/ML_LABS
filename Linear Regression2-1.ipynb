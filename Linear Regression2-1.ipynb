{
 "cells": [
  {
   "cell_type": "markdown",
   "metadata": {},
   "source": [
    "Lab Task -1\n",
    "\n",
    "        Refer attached dataset of drug2.CSV\n",
    "        Train a linear regression model (C) as (response~dose+ sex+dose*sex), improvement through interaction.\n",
    "       Observe the model statistics (p-value, t-value, std. error, magnitude of coefficient, R2 , adj-R2 , SSE, RMSE, F-value, etc )\n",
    "       Plot the error and see is it Gaussian?\n",
    "       Plot predicted value vs error and see is it in desired form?\n",
    "       Plot predicted value vs actual value and see is it in desired form?\n",
    "       Now apply training and testing in real sense, .i.e., divide the dataset training (70%) and testing (30%). Now, observe the testing and training RMSE error etc…\n",
    "        Plot the error and see is it Gaussian?\n",
    "        Plot predicted value vs error and see is it in desired form?\n",
    "        Plot predicted value vs actual value and see is it in desired form?"
   ]
  },
  {
   "cell_type": "code",
   "execution_count": 1,
   "metadata": {},
   "outputs": [],
   "source": [
    "import pandas as pd\n",
    "import numpy as np\n",
    "from sklearn import datasets, linear_model\n",
    "from sklearn.model_selection import train_test_split\n",
    "from matplotlib import pyplot as plt\n",
    "import statsmodels.api as sm\n",
    "from sklearn.metrics import mean_squared_error"
   ]
  },
  {
   "cell_type": "code",
   "execution_count": 58,
   "metadata": {},
   "outputs": [
    {
     "name": "stdout",
     "output_type": "stream",
     "text": [
      "   sex  dose  response  Dose_Sex\n",
      "0    1   0.1     13.75     1.375\n",
      "1    1   0.2     12.90     2.580\n",
      "2    1   0.3     19.26     5.778\n",
      "3    1   0.4     20.34     8.136\n",
      "4    1   0.5     19.97     9.985\n",
      "\n",
      "Root Mean Square Error :  13.398975994390886\n",
      "\n",
      "\n",
      "                            OLS Regression Results                            \n",
      "==============================================================================\n",
      "Dep. Variable:               response   R-squared:                       0.989\n",
      "Model:                            OLS   Adj. R-squared:                  0.989\n",
      "Method:                 Least Squares   F-statistic:                 3.729e+04\n",
      "Date:                Wed, 13 Feb 2019   Prob (F-statistic):               0.00\n",
      "Time:                        15:37:56   Log-Likelihood:                -5052.5\n",
      "No. Observations:                1280   AIC:                         1.011e+04\n",
      "Df Residuals:                    1277   BIC:                         1.013e+04\n",
      "Df Model:                           3                                         \n",
      "Covariance Type:            nonrobust                                         \n",
      "==============================================================================\n",
      "                 coef    std err          t      P>|t|      [0.025      0.975]\n",
      "------------------------------------------------------------------------------\n",
      "sex           58.3655      0.763     76.450      0.000      56.868      59.863\n",
      "dose           1.8157      0.096     18.929      0.000       1.628       2.004\n",
      "Dose_Sex       0.0832      0.001    112.704      0.000       0.082       0.085\n",
      "==============================================================================\n",
      "Omnibus:                      241.886   Durbin-Watson:                   2.015\n",
      "Prob(Omnibus):                  0.000   Jarque-Bera (JB):              445.183\n",
      "Skew:                          -1.145   Prob(JB):                     2.14e-97\n",
      "Kurtosis:                       4.762   Cond. No.                     1.95e+03\n",
      "==============================================================================\n",
      "\n",
      "Warnings:\n",
      "[1] Standard Errors assume that the covariance matrix of the errors is correctly specified.\n",
      "[2] The condition number is large, 1.95e+03. This might indicate that there are\n",
      "strong multicollinearity or other numerical problems.\n"
     ]
    }
   ],
   "source": [
    "df = pd.read_csv('drug2.csv')\n",
    "dose_sex = []\n",
    "for i in range(len(df)):\n",
    "    dose_sex.append(df.dose[i]*df.response[i])\n",
    "df['Dose_Sex']=dose_sex    \n",
    "print(df.head())\n",
    "x = df[['sex','dose','Dose_Sex']]\n",
    "y = df['response']\n",
    "\n",
    "\n",
    "X_train, X_test, y_train, y_test = train_test_split(x,y,test_size=0.6)\n",
    "\n",
    "\n",
    "# Note the difference in argument order\n",
    "model = sm.OLS(y_train, X_train).fit()\n",
    "predictions = model.predict(X_test) # make the predictions by the model\n",
    "\n",
    "# Print out the statistics\n",
    "\n",
    "print(\"\\nRoot Mean Square Error : \",np.sqrt(mean_squared_error(y_test, predictions.tolist())))\n",
    "print('\\n')\n",
    "print(model.summary())\n",
    "\n",
    "\n"
   ]
  },
  {
   "cell_type": "code",
   "execution_count": 31,
   "metadata": {},
   "outputs": [
    {
     "name": "stdout",
     "output_type": "stream",
     "text": [
      "      Real Value  Predicted Value      Error\n",
      "830        93.04        86.327647   6.712353\n",
      "292       259.42       274.943232 -15.523232\n",
      "1597       35.68        47.339538 -11.659538\n",
      "938        16.27        12.527549   3.742451\n",
      "1829       93.12        85.386343   7.733657\n",
      "755        20.70        20.056725   0.643275\n",
      "2263      185.64       167.464344  18.175656\n",
      "2074      212.17       203.121916   9.048084\n",
      "1561       22.73        23.255059  -0.525059\n",
      "123        16.16         7.687249   8.472751\n",
      "2073      212.56       201.407946  11.152054\n",
      "1850      147.37       128.656648  18.713352\n",
      "2002       19.84        57.579854 -37.739854\n",
      "1369       26.63        28.531940  -1.901940\n",
      "3113        9.26         3.678794   5.581206\n",
      "214        48.52        65.378612 -16.858612\n",
      "1428       90.61        83.817451   6.792549\n",
      "1082      235.22       234.710239   0.509761\n",
      "1121       11.09         6.116644   4.973356\n",
      "2023       79.89        76.967026   2.922974\n"
     ]
    }
   ],
   "source": [
    "d = {'Real Value':y_test,'Predicted Value':predictions.tolist(),'Error':np.subtract(y_test,predictions.tolist())}\n",
    "Pred = pd.DataFrame(data=d)\n",
    "print(Pred.head(20))\n"
   ]
  },
  {
   "cell_type": "code",
   "execution_count": 54,
   "metadata": {},
   "outputs": [
    {
     "data": {
      "text/plain": [
       "[<matplotlib.lines.Line2D at 0x1c785fac9b0>,\n",
       " <matplotlib.lines.Line2D at 0x1c7860fa278>,\n",
       " <matplotlib.lines.Line2D at 0x1c7860fa3c8>]"
      ]
     },
     "execution_count": 54,
     "metadata": {},
     "output_type": "execute_result"
    },
    {
     "data": {
      "image/png": "[encoded data removed]",
      "text/plain": [
       "<Figure size 432x288 with 1 Axes>"
      ]
     },
     "metadata": {
      "needs_background": "light"
     },
     "output_type": "display_data"
    }
   ],
   "source": [
    "plt.plot(X_test,predictions.tolist(), color='black', linewidth=3)\n"
   ]
  },
  {
   "cell_type": "code",
   "execution_count": 43,
   "metadata": {},
   "outputs": [
    {
     "data": {
      "text/plain": [
       "(array([222., 231., 302., 209., 118., 134., 124.,  58.,  87.,  85., 153.,\n",
       "         49.,  17.,  16.,  11.,  22.,  12.,   7.,  15.,   1.,   9.,  18.,\n",
       "          5.,   7.,   5.,   3.]),\n",
       " array([1.17798963e-02, 1.79617118e+00, 3.58056246e+00, 5.36495374e+00,\n",
       "        7.14934502e+00, 8.93373630e+00, 1.07181276e+01, 1.25025189e+01,\n",
       "        1.42869101e+01, 1.60713014e+01, 1.78556927e+01, 1.96400840e+01,\n",
       "        2.14244753e+01, 2.32088666e+01, 2.49932578e+01, 2.67776491e+01,\n",
       "        2.85620404e+01, 3.03464317e+01, 3.21308230e+01, 3.39152142e+01,\n",
       "        3.56996055e+01, 3.74839968e+01, 3.92683881e+01, 4.10527794e+01,\n",
       "        4.28371707e+01, 4.46215619e+01, 4.64059532e+01]),\n",
       " <a list of 26 Patch objects>)"
      ]
     },
     "execution_count": 43,
     "metadata": {},
     "output_type": "execute_result"
    },
    {
     "data": {
      "image/png": "[encoded data removed]",
      "text/plain": [
       "<Figure size 1440x720 with 1 Axes>"
      ]
     },
     "metadata": {
      "needs_background": "light"
     },
     "output_type": "display_data"
    }
   ],
   "source": [
    "#Gaussian Plot to check error distribution\n",
    "error = Pred.Error.tolist()\n",
    "error = [abs(error[i]) for i in range(len(Pred))]\n",
    "plt.figure(figsize=(20,10))\n",
    "plt.hist(error,bins='auto')"
   ]
  }
 ],
 "metadata": {
  "kernelspec": {
   "display_name": "Python 3",
   "language": "python",
   "name": "python3"
  },
  "language_info": {
   "codemirror_mode": {
    "name": "ipython",
    "version": 3
   },
   "file_extension": ".py",
   "mimetype": "text/x-python",
   "name": "python",
   "nbconvert_exporter": "python",
   "pygments_lexer": "ipython3",
   "version": "3.6.5"
  }
 },
 "nbformat": 4,
 "nbformat_minor": 2
}
