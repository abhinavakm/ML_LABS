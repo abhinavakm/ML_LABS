{
 "cells": [
  {
   "cell_type": "code",
   "execution_count": 1,
   "metadata": {},
   "outputs": [],
   "source": [
    "import pandas as pd\n",
    "import numpy as np\n",
    "from sklearn import datasets, linear_model\n",
    "from sklearn.model_selection import train_test_split\n",
    "from matplotlib import pyplot as plt\n",
    "import statsmodels.api as sm"
   ]
  },
  {
   "cell_type": "code",
   "execution_count": 44,
   "metadata": {
    "scrolled": true
   },
   "outputs": [
    {
     "name": "stdout",
     "output_type": "stream",
     "text": [
      "   sex  dose  response\n",
      "0    1   0.1     13.75\n",
      "1    1   0.2     12.90\n",
      "2    1   0.3     19.26\n",
      "3    1   0.4     20.34\n",
      "4    1   0.5     19.97\n",
      "                            OLS Regression Results                            \n",
      "==============================================================================\n",
      "Dep. Variable:               response   R-squared:                       0.862\n",
      "Model:                            OLS   Adj. R-squared:                  0.862\n",
      "Method:                 Least Squares   F-statistic:                     4004.\n",
      "Date:                Wed, 13 Feb 2019   Prob (F-statistic):               0.00\n",
      "Time:                        00:44:05   Log-Likelihood:                -6645.6\n",
      "No. Observations:                1280   AIC:                         1.330e+04\n",
      "Df Residuals:                    1278   BIC:                         1.331e+04\n",
      "Df Model:                           2                                         \n",
      "Covariance Type:            nonrobust                                         \n",
      "==============================================================================\n",
      "                 coef    std err          t      P>|t|      [0.025      0.975]\n",
      "------------------------------------------------------------------------------\n",
      "sex          101.1270      2.150     47.026      0.000      96.908     105.346\n",
      "dose           8.4861      0.265     31.972      0.000       7.965       9.007\n",
      "==============================================================================\n",
      "Omnibus:                       76.653   Durbin-Watson:                   1.785\n",
      "Prob(Omnibus):                  0.000   Jarque-Bera (JB):               89.979\n",
      "Skew:                           0.649   Prob(JB):                     2.89e-20\n",
      "Kurtosis:                       2.977   Cond. No.                         10.3\n",
      "==============================================================================\n",
      "\n",
      "Warnings:\n",
      "[1] Standard Errors assume that the covariance matrix of the errors is correctly specified.\n"
     ]
    }
   ],
   "source": [
    "df = pd.read_csv('drug2.csv')\n",
    "print(df.head())\n",
    "x = df.iloc[:,0:2]\n",
    "y = df.iloc[:,2]\n",
    "\n",
    "X_train, X_test, y_train, y_test = train_test_split(x,y,test_size=0.6)\n",
    "\n",
    "\n",
    "# Note the difference in argument order\n",
    "model = sm.OLS(y_train, X_train).fit()\n",
    "predictions = model.predict(X_test) # make the predictions by the model\n",
    "\n",
    "# Print out the statistics\n",
    "print(model.summary())\n",
    "\n"
   ]
  },
  {
   "cell_type": "code",
   "execution_count": 48,
   "metadata": {},
   "outputs": [
    {
     "name": "stdout",
     "output_type": "stream",
     "text": [
      "      Real Value  Predicted Value      Error\n",
      "2068      195.64       159.681206  35.958794\n",
      "591        32.84        78.072275 -45.232275\n",
      "1164       25.37        55.159760 -29.789760\n",
      "2908       11.44         7.637505   3.802495\n",
      "557        21.85        49.219478 -27.369478\n",
      "1512        3.98        11.031952  -7.051952\n",
      "2930       15.06        26.306962 -11.246962\n",
      "2711        5.04        10.183340  -5.143340\n",
      "599        35.13        84.861169 -49.731169\n",
      "67        194.96       158.832594  36.127406\n",
      "1289      257.40       177.502051  79.897949\n",
      "1943       15.91        37.338914 -21.428914\n",
      "2244      128.09       139.314525 -11.224525\n",
      "2584       27.34        72.131994 -44.791994\n",
      "2884      242.05       173.258993  68.791007\n",
      "1287      250.00       175.804828  74.195172\n",
      "1637      113.40       133.374243 -19.974243\n",
      "1210       40.08       110.461728 -70.381728\n",
      "1662      176.90       154.589535  22.310465\n",
      "885       237.90       174.107604  63.792396\n"
     ]
    }
   ],
   "source": [
    "d = {'Real Value':y_test,'Predicted Value':predictions.tolist(),'Error':np.subtract(y_test,predictions.tolist())}\n",
    "Pred = pd.DataFrame(data=d)\n",
    "print(Pred.head(20))"
   ]
  },
  {
   "cell_type": "code",
   "execution_count": 74,
   "metadata": {},
   "outputs": [
    {
     "data": {
      "text/plain": [
       "(array([201., 156., 181., 139., 147., 143., 148., 155., 132., 115.,  59.,\n",
       "         46.,  60.,  39.,  50.,  53.,  51.,  45.]),\n",
       " array([4.10281754e-02, 5.30218394e+00, 1.05633397e+01, 1.58244955e+01,\n",
       "        2.10856513e+01, 2.63468070e+01, 3.16079628e+01, 3.68691186e+01,\n",
       "        4.21302743e+01, 4.73914301e+01, 5.26525859e+01, 5.79137416e+01,\n",
       "        6.31748974e+01, 6.84360532e+01, 7.36972089e+01, 7.89583647e+01,\n",
       "        8.42195205e+01, 8.94806763e+01, 9.47418320e+01]),\n",
       " <a list of 18 Patch objects>)"
      ]
     },
     "execution_count": 74,
     "metadata": {},
     "output_type": "execute_result"
    },
    {
     "data": {
      "image/png": "[encoded data removed]",
      "text/plain": [
       "<Figure size 1440x720 with 1 Axes>"
      ]
     },
     "metadata": {
      "needs_background": "light"
     },
     "output_type": "display_data"
    }
   ],
   "source": [
    "#Gaussian Plot to check error distribution\n",
    "error = Pred.Error.tolist()\n",
    "error = [abs(error[i]) for i in range(len(Pred))]\n",
    "plt.figure(figsize=(20,10))\n",
    "plt.hist(error,bins='auto')"
   ]
  },
  {
   "cell_type": "code",
   "execution_count": 62,
   "metadata": {},
   "outputs": [
    {
     "data": {
      "text/plain": [
       "35.9587943919895"
      ]
     },
     "execution_count": 62,
     "metadata": {},
     "output_type": "execute_result"
    }
   ],
   "source": []
  },
  {
   "cell_type": "markdown",
   "metadata": {},
   "source": [
    "Other Exmaple"
   ]
  },
  {
   "cell_type": "code",
   "execution_count": 32,
   "metadata": {
    "scrolled": true
   },
   "outputs": [
    {
     "name": "stdout",
     "output_type": "stream",
     "text": [
      "Intercept: \n",
      " 1798.403977625855\n",
      "Coefficients: \n",
      " [ 345.54008701 -250.14657137]\n",
      "Predicted Stock Index Price: \n",
      " [1422.86238865]\n",
      "                            OLS Regression Results                            \n",
      "==============================================================================\n",
      "Dep. Variable:      Stock_Index_Price   R-squared:                       0.898\n",
      "Model:                            OLS   Adj. R-squared:                  0.888\n",
      "Method:                 Least Squares   F-statistic:                     92.07\n",
      "Date:                Wed, 13 Feb 2019   Prob (F-statistic):           4.04e-11\n",
      "Time:                        00:36:49   Log-Likelihood:                -134.61\n",
      "No. Observations:                  24   AIC:                             275.2\n",
      "Df Residuals:                      21   BIC:                             278.8\n",
      "Df Model:                           2                                         \n",
      "Covariance Type:            nonrobust                                         \n",
      "=====================================================================================\n",
      "                        coef    std err          t      P>|t|      [0.025      0.975]\n",
      "-------------------------------------------------------------------------------------\n",
      "const              1798.4040    899.248      2.000      0.059     -71.685    3668.493\n",
      "Interest_Rate       345.5401    111.367      3.103      0.005     113.940     577.140\n",
      "Unemployment_Rate  -250.1466    117.950     -2.121      0.046    -495.437      -4.856\n",
      "==============================================================================\n",
      "Omnibus:                        2.691   Durbin-Watson:                   0.530\n",
      "Prob(Omnibus):                  0.260   Jarque-Bera (JB):                1.551\n",
      "Skew:                          -0.612   Prob(JB):                        0.461\n",
      "Kurtosis:                       3.226   Cond. No.                         394.\n",
      "==============================================================================\n",
      "\n",
      "Warnings:\n",
      "[1] Standard Errors assume that the covariance matrix of the errors is correctly specified.\n"
     ]
    }
   ],
   "source": [
    "from pandas import DataFrame\n",
    "from sklearn import linear_model\n",
    "import statsmodels.api as sm\n",
    "\n",
    "Stock_Market = {'Year': [2017,2017,2017,2017,2017,2017,2017,2017,2017,2017,2017,2017,2016,2016,2016,2016,2016,2016,2016,2016,2016,2016,2016,2016],\n",
    "                'Month': [12, 11,10,9,8,7,6,5,4,3,2,1,12,11,10,9,8,7,6,5,4,3,2,1],\n",
    "                'Interest_Rate': [2.75,2.5,2.5,2.5,2.5,2.5,2.5,2.25,2.25,2.25,2,2,2,1.75,1.75,1.75,1.75,1.75,1.75,1.75,1.75,1.75,1.75,1.75],\n",
    "                'Unemployment_Rate': [5.3,5.3,5.3,5.3,5.4,5.6,5.5,5.5,5.5,5.6,5.7,5.9,6,5.9,5.8,6.1,6.2,6.1,6.1,6.1,5.9,6.2,6.2,6.1],\n",
    "                'Stock_Index_Price': [1464,1394,1357,1293,1256,1254,1234,1195,1159,1167,1130,1075,1047,965,943,958,971,949,884,866,876,822,704,719]        \n",
    "                }\n",
    "\n",
    "df = DataFrame(Stock_Market,columns=['Year','Month','Interest_Rate','Unemployment_Rate','Stock_Index_Price'])\n",
    "\n",
    "\n",
    "X = df[['Interest_Rate','Unemployment_Rate']] # here we have 2 variables for multiple regression. If you just want to use one variable for simple linear regression, then use X = df['Interest_Rate'] for example.Alternatively, you may add additional variables within the brackets\n",
    "Y = df['Stock_Index_Price']\n",
    "\n",
    "\n",
    "# with sklearn\n",
    "regr = linear_model.LinearRegression()\n",
    "regr.fit(X, Y)\n",
    "\n",
    "print('Intercept: \\n', regr.intercept_)\n",
    "print('Coefficients: \\n', regr.coef_)\n",
    "\n",
    "\n",
    "# prediction with sklearn\n",
    "New_Interest_Rate = 2.75\n",
    "New_Unemployment_Rate = 5.3\n",
    "print ('Predicted Stock Index Price: \\n', regr.predict([[New_Interest_Rate ,New_Unemployment_Rate]]))\n",
    "\n",
    "\n",
    "# with statsmodels\n",
    "X = sm.add_constant(X) # adding a constant\n",
    " \n",
    "model = sm.OLS(Y, X).fit()\n",
    "predictions = model.predict(X) \n",
    " \n",
    "print_model = model.summary()\n",
    "print(print_model)"
   ]
  },
  {
   "cell_type": "code",
   "execution_count": 41,
   "metadata": {},
   "outputs": [
    {
     "name": "stdout",
     "output_type": "stream",
     "text": [
      "734      13.54\n",
      "2288    253.15\n",
      "1171     28.38\n",
      "2579     30.62\n",
      "146      20.83\n",
      "833     104.09\n",
      "1194     31.12\n",
      "416      56.90\n",
      "1590     32.62\n",
      "982      28.36\n",
      "1398     34.45\n",
      "2195     36.46\n",
      "830      93.04\n",
      "1610     38.51\n",
      "2250    149.36\n",
      "2541     15.99\n",
      "1790     34.93\n",
      "811      44.25\n",
      "342      17.05\n",
      "1447    140.81\n",
      "1420     70.23\n",
      "567      23.83\n",
      "120      12.61\n",
      "2247    139.01\n",
      "1031     92.44\n",
      "1511      4.66\n",
      "2963     26.90\n",
      "1845    136.42\n",
      "1236    108.56\n",
      "2464    185.59\n",
      "         ...  \n",
      "1917     10.66\n",
      "1846    137.83\n",
      "998      34.42\n",
      "487     251.84\n",
      "339      17.64\n",
      "1073    211.36\n",
      "650     147.22\n",
      "1377     28.10\n",
      "1044    127.74\n",
      "3024     76.33\n",
      "2265    188.20\n",
      "289     255.63\n",
      "628      90.18\n",
      "17       58.53\n",
      "2908     11.44\n",
      "3105      5.24\n",
      "2527     11.78\n",
      "1814     44.62\n",
      "180      27.52\n",
      "1325     11.50\n",
      "717      11.76\n",
      "311       5.87\n",
      "2356     19.43\n",
      "2481    231.48\n",
      "1942     20.25\n",
      "495     271.35\n",
      "1841    122.02\n",
      "474     211.11\n",
      "524       9.12\n",
      "642     129.39\n",
      "Name: response, Length: 1280, dtype: float64\n",
      "      sex  dose\n",
      "734     0   3.5\n",
      "2288    1   8.9\n",
      "1171    0   7.2\n",
      "2579    0   8.0\n",
      "146     0   4.7\n",
      "833     1   3.4\n",
      "1194    0   9.5\n",
      "416     1   1.7\n",
      "1590    0   9.1\n",
      "982     0   8.3\n",
      "1398    0   9.9\n",
      "2195    0   9.6\n",
      "830     1   3.1\n",
      "1610    1   1.1\n",
      "2250    1   5.1\n",
      "2541    0   4.2\n",
      "1790    0   9.1\n",
      "811     1   1.2\n",
      "342     0   4.3\n",
      "1447    1   4.8\n",
      "1420    1   2.1\n",
      "567     0   6.8\n",
      "120     0   2.1\n",
      "2247    1   4.8\n",
      "1031    1   3.2\n",
      "1511    0   1.2\n",
      "2963    0   6.4\n",
      "1845    1   4.6\n",
      "1236    1   3.7\n",
      "2464    1   6.5\n",
      "...   ...   ...\n",
      "1917    0   1.8\n",
      "1846    1   4.7\n",
      "998     0   9.9\n",
      "487     1   8.8\n",
      "339     0   4.0\n",
      "1073    1   7.4\n",
      "650     1   5.1\n",
      "1377    0   7.8\n",
      "1044    1   4.5\n",
      "3024    1   2.5\n",
      "2265    1   6.6\n",
      "289     1   9.0\n",
      "628     1   2.9\n",
      "17      1   1.8\n",
      "2908    0   0.9\n",
      "3105    0   0.6\n",
      "2527    0   2.8\n",
      "1814    1   1.5\n",
      "180     0   8.1\n",
      "1325    0   2.6\n",
      "717     0   1.8\n",
      "311     0   1.2\n",
      "2356    0   5.7\n",
      "2481    1   8.2\n",
      "1942    0   4.3\n",
      "495     1   9.6\n",
      "1841    1   4.2\n",
      "474     1   7.5\n",
      "524     0   2.5\n",
      "642     1   4.3\n",
      "\n",
      "[1280 rows x 2 columns]\n"
     ]
    }
   ],
   "source": [
    "print((y_train))\n",
    "print(X_train)"
   ]
  }
 ],
 "metadata": {
  "kernelspec": {
   "display_name": "Python 3",
   "language": "python",
   "name": "python3"
  },
  "language_info": {
   "codemirror_mode": {
    "name": "ipython",
    "version": 3
   },
   "file_extension": ".py",
   "mimetype": "text/x-python",
   "name": "python",
   "nbconvert_exporter": "python",
   "pygments_lexer": "ipython3",
   "version": "3.7.1"
  }
 },
 "nbformat": 4,
 "nbformat_minor": 2
}
