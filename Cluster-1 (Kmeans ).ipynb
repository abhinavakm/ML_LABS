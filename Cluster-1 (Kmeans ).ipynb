{
 "cells": [
  {
   "cell_type": "code",
   "execution_count": 1,
   "metadata": {},
   "outputs": [
    {
     "name": "stdout",
     "output_type": "stream",
     "text": [
      "     Fresh   Milk  Grocery  Frozen  Detergents_Paper  Delicassen\n",
      "0    12669   9656     7561     214              2674        1338\n",
      "1     7057   9810     9568    1762              3293        1776\n",
      "2     6353   8808     7684    2405              3516        7844\n",
      "3    13265   1196     4221    6404               507        1788\n",
      "4    22615   5410     7198    3915              1777        5185\n",
      "5     9413   8259     5126     666              1795        1451\n",
      "6    12126   3199     6975     480              3140         545\n",
      "7     7579   4956     9426    1669              3321        2566\n",
      "8     5963   3648     6192     425              1716         750\n",
      "9     6006  11093    18881    1159              7425        2098\n",
      "10    3366   5403    12974    4400              5977        1744\n",
      "11   13146   1124     4523    1420               549         497\n",
      "12   31714  12319    11757     287              3881        2931\n",
      "13   21217   6208    14982    3095              6707         602\n",
      "14   24653   9465    12091     294              5058        2168\n",
      "15   10253   1114     3821     397               964         412\n",
      "16    1020   8816    12121     134              4508        1080\n",
      "17    5876   6157     2933     839               370        4478\n",
      "18   18601   6327    10099    2205              2767        3181\n",
      "19    7780   2495     9464     669              2518         501\n",
      "20   17546   4519     4602    1066              2259        2124\n",
      "21    5567    871     2010    3383               375         569\n",
      "22   31276   1917     4469    9408              2381        4334\n",
      "23   26373  36423    22019    5154              4337       16523\n",
      "24   22647   9776    13792    2915              4482        5778\n",
      "25   16165   4230     7595     201              4003          57\n",
      "26    9898    961     2861    3151               242         833\n",
      "27   14276    803     3045     485               100         518\n",
      "28    4113  20484    25957    1158              8604        5206\n",
      "29   43088   2100     2609    1200              1107         823\n",
      "..     ...    ...      ...     ...               ...         ...\n",
      "410   6633   2096     4563    1389              1860        1892\n",
      "411   2126   3289     3281    1535               235        4365\n",
      "412     97   3605    12400      98              2970          62\n",
      "413   4983   4859     6633   17866               912        2435\n",
      "414   5969   1990     3417    5679              1135         290\n",
      "415   7842   6046     8552    1691              3540        1874\n",
      "416   4389  10940    10908     848              6728         993\n",
      "417   5065   5499    11055     364              3485        1063\n",
      "418    660   8494    18622     133              6740         776\n",
      "419   8861   3783     2223     633              1580        1521\n",
      "420   4456   5266    13227      25              6818        1393\n",
      "421  17063   4847     9053    1031              3415        1784\n",
      "422  26400   1377     4172     830               948        1218\n",
      "423  17565   3686     4657    1059              1803         668\n",
      "424  16980   2884    12232     874              3213         249\n",
      "425  11243   2408     2593   15348               108        1886\n",
      "426  13134   9347    14316    3141              5079        1894\n",
      "427  31012  16687     5429   15082               439        1163\n",
      "428   3047   5970     4910    2198               850         317\n",
      "429   8607   1750     3580      47                84        2501\n",
      "430   3097   4230    16483     575               241        2080\n",
      "431   8533   5506     5160   13486              1377        1498\n",
      "432  21117   1162     4754     269              1328         395\n",
      "433   1982   3218     1493    1541               356        1449\n",
      "434  16731   3922     7994     688              2371         838\n",
      "435  29703  12051    16027   13135               182        2204\n",
      "436  39228   1431      764    4510                93        2346\n",
      "437  14531  15488    30243     437             14841        1867\n",
      "438  10290   1981     2232    1038               168        2125\n",
      "439   2787   1698     2510      65               477          52\n",
      "\n",
      "[440 rows x 6 columns]\n"
     ]
    }
   ],
   "source": [
    "import pandas as pd\n",
    "import numpy as np\n",
    "import random\n",
    "from sklearn.cluster import KMeans\n",
    "from sklearn.preprocessing import LabelEncoder\n",
    "from sklearn.preprocessing import MinMaxScaler\n",
    "import seaborn as sns\n",
    "\n",
    "\n",
    "file = pd.read_csv(\"Wholesale customers data.csv\")\n",
    "file = file.drop(['Region','Channel'],axis=1)\n",
    "random.seed(198)\n",
    "kmeans = KMeans(n_clusters=5,random_state=random.randint(0,90)) # You want cluster the passenger records into 2: Survived or Not survived\n",
    "X=file\n",
    "kmea = kmeans.fit(X)\n",
    "# Getting the cluster labels\n",
    "labels = kmea.predict(X)\n",
    "clust = labels\n",
    "print(file)\n"
   ]
  },
  {
   "cell_type": "code",
   "execution_count": 2,
   "metadata": {},
   "outputs": [
    {
     "name": "stdout",
     "output_type": "stream",
     "text": [
      "1 -  227 ,2 -  24 ,3 -  5 ,4 -  71 ,5 -  113\n"
     ]
    }
   ],
   "source": [
    "#Number of elements in clusters\n",
    "r=labels.tolist()\n",
    "print('1 - ',r.count(0),',2 - ',r.count(1),',3 - ',r.count(2),',4 - ',r.count(3),',5 - ',r.count(4))"
   ]
  },
  {
   "cell_type": "code",
   "execution_count": 3,
   "metadata": {},
   "outputs": [
    {
     "name": "stdout",
     "output_type": "stream",
     "text": [
      "[[ 5655.81938326  3567.79295154  4513.03964758  2386.52863436\n",
      "   1437.55947137  1005.030837  ]\n",
      " [48777.375       6607.375       6197.79166667  9462.79166667\n",
      "    932.125       4435.33333333]\n",
      " [25603.         43460.6        61472.2         2636.\n",
      "  29974.2         2708.8       ]\n",
      " [ 5207.83098592 13191.02816901 20321.71830986  1674.02816901\n",
      "   9036.38028169  1937.94366197]\n",
      " [20600.28318584  3787.83185841  5089.84070796  3989.07079646\n",
      "   1130.14159292  1639.07079646]]\n"
     ]
    }
   ],
   "source": [
    "# Centroid values\n",
    "centroids = kmea.cluster_centers_\n",
    "print(centroids)\n"
   ]
  },
  {
   "cell_type": "code",
   "execution_count": 4,
   "metadata": {},
   "outputs": [
    {
     "name": "stdout",
     "output_type": "stream",
     "text": [
      "SSE within Clusture : [10804478228.801756, 16226867469.125004, 5682449097.599999, 11008166106.732395, 9394958498.477877]\n",
      "Total SSE :  53116919400.73703\n"
     ]
    }
   ],
   "source": [
    "#For calculating within SSE and Total SSE\n",
    "sse=[]\n",
    "for j in range(5):\n",
    "    su=0\n",
    "    for i in range(len(file)):\n",
    "        if clust[i]==j:\n",
    "            su=su+pow(np.linalg.norm((file.values[i]-centroids[j])),2)\n",
    "    sse.append(su)\n",
    "print('SSE within Clusture :', sse)\n",
    "print(\"Total SSE : \",sum(sse))"
   ]
  },
  {
   "cell_type": "code",
   "execution_count": 5,
   "metadata": {},
   "outputs": [
    {
     "name": "stdout",
     "output_type": "stream",
     "text": [
      "Between SSE :  36670043624.823746\n"
     ]
    }
   ],
   "source": [
    "#Heterogeneity\n",
    "for i in range(5):\n",
    "    for j in range(i,4):\n",
    "        su=su+pow(np.linalg.norm((centroids[i]-centroids[j+1])),2)\n",
    "print(\"Between SSE : \",su)\n",
    "\n",
    "        "
   ]
  },
  {
   "cell_type": "code",
   "execution_count": 6,
   "metadata": {},
   "outputs": [
    {
     "name": "stdout",
     "output_type": "stream",
     "text": [
      "[113217528520.90999, 80332413843.01639, 65106848391.0891, 52928148942.5761, 47436360779.964294, 41908265463.844826, 37682777856.41406, 33009179902.191788, 30404410396.369602, 28517724616.403736, 26164604277.03693, 24443582949.95494, 23523598267.03381, 21637831576.812023, 19946583457.672916, 18804394131.691227, 17902991509.01177, 16557580159.090225]\n"
     ]
    }
   ],
   "source": [
    "#100 Times for k=2 to 20\n",
    "def sse(k,centroids,clust):\n",
    "    sse=[]\n",
    "    for j in range(k):\n",
    "        su=0\n",
    "        for i in range(len(file)):\n",
    "            if clust[i]==j:\n",
    "                su=su+pow(np.linalg.norm((file.values[i]-centroids[j])),2)\n",
    "        sse.append(su)\n",
    "    return sum(sse)\n",
    "\n",
    "\n",
    "tsse = []   \n",
    "for k in range(2,20,1):\n",
    "    random.seed(12)\n",
    "    kmea=KMeans(n_clusters=k,random_state=random.randint(0,90),max_iter=100)\n",
    "    re = kmea.fit(file)\n",
    "    lable = re.predict(file)\n",
    "    centroids = re.cluster_centers_\n",
    "    tsse.append(sse(k,centroids,lable))\n",
    "\n",
    "print(tsse)"
   ]
  },
  {
   "cell_type": "code",
   "execution_count": 7,
   "metadata": {},
   "outputs": [
    {
     "data": {
      "text/plain": [
       "array([22615,  5410,  7198,  3915,  1777,  5185], dtype=int64)"
      ]
     },
     "execution_count": 7,
     "metadata": {},
     "output_type": "execute_result"
    }
   ],
   "source": [
    "file.values[i]"
   ]
  },
  {
   "cell_type": "code",
   "execution_count": 8,
   "metadata": {},
   "outputs": [
    {
     "data": {
      "image/png": "[encoded data removed]",
      "text/plain": [
       "<Figure size 432x288 with 1 Axes>"
      ]
     },
     "metadata": {},
     "output_type": "display_data"
    }
   ],
   "source": [
    "\n",
    "import matplotlib.pyplot as plt\n",
    "plt.plot([k for k in range(2,20)],tsse)\n",
    "plt.ylabel('SSE')\n",
    "\n",
    "\n",
    "plt.xlabel('K')\n",
    "plt.grid(True)\n",
    "plt.show()\n"
   ]
  },
  {
   "cell_type": "code",
   "execution_count": null,
   "metadata": {},
   "outputs": [],
   "source": []
  },
  {
   "cell_type": "code",
   "execution_count": 9,
   "metadata": {},
   "outputs": [
    {
     "name": "stdout",
     "output_type": "stream",
     "text": [
      "34\n"
     ]
    }
   ],
   "source": [
    "import pandas as pd\n",
    "import numpy as np\n",
    "import random\n",
    "from sklearn.cluster import KMeans\n",
    "from sklearn.preprocessing import LabelEncoder\n",
    "from sklearn.preprocessing import MinMaxScaler\n",
    "import seaborn as sns\n",
    "print(random.randint(0,90))"
   ]
  },
  {
   "cell_type": "markdown",
   "metadata": {},
   "source": [
    "Suitable number of cluster may 5."
   ]
  }
 ],
 "metadata": {
  "kernelspec": {
   "display_name": "Python 3",
   "language": "python",
   "name": "python3"
  },
  "language_info": {
   "codemirror_mode": {
    "name": "ipython",
    "version": 3
   },
   "file_extension": ".py",
   "mimetype": "text/x-python",
   "name": "python",
   "nbconvert_exporter": "python",
   "pygments_lexer": "ipython3",
   "version": "3.6.5"
  }
 },
 "nbformat": 4,
 "nbformat_minor": 2
}
